{
 "cells": [
  {
   "cell_type": "markdown",
   "id": "be40993b",
   "metadata": {},
   "source": [
    "# Libary Name : DWI\n",
    "\n",
    "## What is Diffusion Weighted Imaging"
   ]
  },
  {
   "cell_type": "code",
   "execution_count": null,
   "id": "003e6c96",
   "metadata": {},
   "outputs": [],
   "source": []
  },
  {
   "cell_type": "markdown",
   "id": "f7cff8de",
   "metadata": {},
   "source": [
    "## Trace Weighted Imaging"
   ]
  },
  {
   "cell_type": "code",
   "execution_count": null,
   "id": "f2240b04",
   "metadata": {},
   "outputs": [],
   "source": []
  },
  {
   "cell_type": "markdown",
   "id": "ca467024",
   "metadata": {},
   "source": [
    "## Models of Diffusions\n",
    "\n",
    "### Monoexptional Model"
   ]
  },
  {
   "cell_type": "code",
   "execution_count": null,
   "id": "b14bb2a3",
   "metadata": {},
   "outputs": [],
   "source": []
  },
  {
   "cell_type": "markdown",
   "id": "22fbdc35",
   "metadata": {},
   "source": [
    "### Kurtosis Model"
   ]
  },
  {
   "cell_type": "code",
   "execution_count": null,
   "id": "e3dd00a3",
   "metadata": {},
   "outputs": [],
   "source": []
  },
  {
   "cell_type": "markdown",
   "id": "5932e157",
   "metadata": {},
   "source": [
    "### IVIM-Kurtosis Model"
   ]
  },
  {
   "cell_type": "code",
   "execution_count": null,
   "id": "9a639e8d",
   "metadata": {},
   "outputs": [],
   "source": []
  },
  {
   "cell_type": "markdown",
   "id": "bddadba3",
   "metadata": {},
   "source": [
    "### Adding Custom Model of Diffusion"
   ]
  },
  {
   "cell_type": "code",
   "execution_count": null,
   "id": "041a9201",
   "metadata": {},
   "outputs": [],
   "source": []
  },
  {
   "cell_type": "markdown",
   "id": "a844a6eb",
   "metadata": {},
   "source": [
    "## DWI Distortion Correction\n",
    "\n",
    "### Eddy Currents"
   ]
  },
  {
   "cell_type": "code",
   "execution_count": null,
   "id": "8c45ccb8",
   "metadata": {},
   "outputs": [],
   "source": []
  },
  {
   "cell_type": "markdown",
   "id": "d6c40962",
   "metadata": {},
   "source": [
    "### Magnetic Field Susceptibilities"
   ]
  },
  {
   "cell_type": "code",
   "execution_count": null,
   "id": "818c6e5f",
   "metadata": {},
   "outputs": [],
   "source": []
  },
  {
   "cell_type": "markdown",
   "id": "2b18d2cd",
   "metadata": {},
   "source": [
    "## DWI Denoising\n",
    "\n",
    "### Non-Local Means"
   ]
  },
  {
   "cell_type": "code",
   "execution_count": null,
   "id": "af3f4435",
   "metadata": {},
   "outputs": [],
   "source": []
  },
  {
   "cell_type": "markdown",
   "id": "faabe874",
   "metadata": {},
   "source": [
    "### MPPCA"
   ]
  },
  {
   "cell_type": "code",
   "execution_count": null,
   "id": "6839dff1",
   "metadata": {},
   "outputs": [],
   "source": []
  },
  {
   "cell_type": "markdown",
   "id": "64f0f614",
   "metadata": {},
   "source": [
    "### Patch2Self"
   ]
  },
  {
   "cell_type": "code",
   "execution_count": null,
   "id": "6554a706",
   "metadata": {},
   "outputs": [],
   "source": []
  },
  {
   "cell_type": "markdown",
   "id": "1c5f8f5c",
   "metadata": {},
   "source": [
    "## Diffusion Tensor Imaging (Not Currently Supported)"
   ]
  },
  {
   "cell_type": "code",
   "execution_count": null,
   "id": "2720ea2c",
   "metadata": {},
   "outputs": [],
   "source": []
  }
 ],
 "metadata": {
  "kernelspec": {
   "display_name": "Python 3 (ipykernel)",
   "language": "python",
   "name": "python3"
  },
  "language_info": {
   "codemirror_mode": {
    "name": "ipython",
    "version": 3
   },
   "file_extension": ".py",
   "mimetype": "text/x-python",
   "name": "python",
   "nbconvert_exporter": "python",
   "pygments_lexer": "ipython3",
   "version": "3.9.12"
  }
 },
 "nbformat": 4,
 "nbformat_minor": 5
}
