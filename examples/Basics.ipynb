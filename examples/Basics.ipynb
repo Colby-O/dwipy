{
 "cells": [
  {
   "cell_type": "markdown",
   "id": "9e02c503",
   "metadata": {},
   "source": [
    "# Libary Name : Basics\n",
    "\n",
    "\n",
    "## Prerequisites\n",
    "\n",
    "### Install\n",
    "\n",
    "### Dependencies \n",
    "\n",
    "\n",
    "## Configuration\n",
    "\n",
    "### Basics configuration"
   ]
  },
  {
   "cell_type": "code",
   "execution_count": null,
   "id": "ac84940a",
   "metadata": {},
   "outputs": [],
   "source": []
  },
  {
   "cell_type": "markdown",
   "id": "006718a0",
   "metadata": {},
   "source": [
    "### CPU and GPU accerlation configuration"
   ]
  },
  {
   "cell_type": "code",
   "execution_count": null,
   "id": "49616f88",
   "metadata": {},
   "outputs": [],
   "source": []
  },
  {
   "cell_type": "markdown",
   "id": "c7e87f18",
   "metadata": {},
   "source": [
    "## Image Classes\n",
    "\n",
    "### Supported File Type"
   ]
  },
  {
   "cell_type": "code",
   "execution_count": null,
   "id": "93ca1269",
   "metadata": {},
   "outputs": [],
   "source": []
  },
  {
   "cell_type": "markdown",
   "id": "68327640",
   "metadata": {},
   "source": [
    "### Passing MRI Acquisition Parameters to Image class"
   ]
  },
  {
   "cell_type": "code",
   "execution_count": null,
   "id": "ee757f7e",
   "metadata": {},
   "outputs": [],
   "source": []
  },
  {
   "cell_type": "markdown",
   "id": "8c25d1f0",
   "metadata": {},
   "source": [
    "### Image2D"
   ]
  },
  {
   "cell_type": "code",
   "execution_count": null,
   "id": "70546e53",
   "metadata": {},
   "outputs": [],
   "source": []
  },
  {
   "cell_type": "markdown",
   "id": "463f0f31",
   "metadata": {},
   "source": [
    "### Image3D"
   ]
  },
  {
   "cell_type": "code",
   "execution_count": null,
   "id": "5402cf8f",
   "metadata": {},
   "outputs": [],
   "source": []
  },
  {
   "cell_type": "markdown",
   "id": "0542698c",
   "metadata": {},
   "source": [
    "### Image4D"
   ]
  },
  {
   "cell_type": "code",
   "execution_count": null,
   "id": "821742ef",
   "metadata": {},
   "outputs": [],
   "source": []
  },
  {
   "cell_type": "markdown",
   "id": "e10aa56d",
   "metadata": {},
   "source": [
    "### Diffusion-Weighted Images"
   ]
  },
  {
   "cell_type": "code",
   "execution_count": null,
   "id": "e00c3de8",
   "metadata": {},
   "outputs": [],
   "source": []
  },
  {
   "cell_type": "markdown",
   "id": "f44da707",
   "metadata": {},
   "source": [
    "### Dynamic Constrast-Enhanced Images"
   ]
  },
  {
   "cell_type": "code",
   "execution_count": null,
   "id": "375925c8",
   "metadata": {},
   "outputs": [],
   "source": []
  },
  {
   "cell_type": "markdown",
   "id": "291cbe26",
   "metadata": {},
   "source": [
    "## Region Of Interest\n",
    "\n",
    "### ROI primitive classes"
   ]
  },
  {
   "cell_type": "code",
   "execution_count": null,
   "id": "3c5d0cb4",
   "metadata": {},
   "outputs": [],
   "source": []
  },
  {
   "cell_type": "markdown",
   "id": "4cdaa1da",
   "metadata": {},
   "source": [
    "### Custom ROI's"
   ]
  },
  {
   "cell_type": "code",
   "execution_count": null,
   "id": "9eb3ad83",
   "metadata": {},
   "outputs": [],
   "source": []
  },
  {
   "cell_type": "markdown",
   "id": "6af9dd36",
   "metadata": {},
   "source": [
    "### Importing ROI's from Slicer3D"
   ]
  },
  {
   "cell_type": "code",
   "execution_count": null,
   "id": "662ae26e",
   "metadata": {},
   "outputs": [],
   "source": []
  },
  {
   "cell_type": "markdown",
   "id": "6b444bd4",
   "metadata": {},
   "source": [
    "### Generate a Mask"
   ]
  },
  {
   "cell_type": "code",
   "execution_count": null,
   "id": "f3d05564",
   "metadata": {},
   "outputs": [],
   "source": []
  },
  {
   "cell_type": "markdown",
   "id": "c1ba1b31",
   "metadata": {},
   "source": [
    "### Applying a Mask to an Image"
   ]
  },
  {
   "cell_type": "code",
   "execution_count": null,
   "id": "ae5b1588",
   "metadata": {},
   "outputs": [],
   "source": []
  },
  {
   "cell_type": "markdown",
   "id": "54a48556",
   "metadata": {},
   "source": [
    "## C++ Extensions"
   ]
  },
  {
   "cell_type": "code",
   "execution_count": null,
   "id": "b0abb5b9",
   "metadata": {},
   "outputs": [],
   "source": []
  }
 ],
 "metadata": {
  "kernelspec": {
   "display_name": "Python 3 (ipykernel)",
   "language": "python",
   "name": "python3"
  },
  "language_info": {
   "codemirror_mode": {
    "name": "ipython",
    "version": 3
   },
   "file_extension": ".py",
   "mimetype": "text/x-python",
   "name": "python",
   "nbconvert_exporter": "python",
   "pygments_lexer": "ipython3",
   "version": "3.9.12"
  }
 },
 "nbformat": 4,
 "nbformat_minor": 5
}
